{
  "nbformat": 4,
  "nbformat_minor": 0,
  "metadata": {
    "colab": {
      "provenance": [],
      "authorship_tag": "ABX9TyP1XZ+TAjs7YbcHjnj4GeXa",
      "include_colab_link": true
    },
    "kernelspec": {
      "name": "python3",
      "display_name": "Python 3"
    },
    "language_info": {
      "name": "python"
    }
  },
  "cells": [
    {
      "cell_type": "markdown",
      "metadata": {
        "id": "view-in-github",
        "colab_type": "text"
      },
      "source": [
        "<a href=\"https://colab.research.google.com/github/darghan/R_models_and_statistics/blob/main/Simulacion_y_matrices_de_confusion.ipynb\" target=\"_parent\"><img src=\"https://colab.research.google.com/assets/colab-badge.svg\" alt=\"Open In Colab\"/></a>"
      ]
    },
    {
      "cell_type": "markdown",
      "source": [
        "Simulación"
      ],
      "metadata": {
        "id": "x875XegNGfSi"
      }
    },
    {
      "cell_type": "code",
      "execution_count": 2,
      "metadata": {
        "id": "1NJjt9m2Get-"
      },
      "outputs": [],
      "source": [
        "import numpy as np"
      ]
    },
    {
      "cell_type": "markdown",
      "source": [
        "1. Dos lanzamientos de una moneda(no cargada) -x: salen exactamente dos caras"
      ],
      "metadata": {
        "id": "HSCuJFG2GpBM"
      }
    },
    {
      "cell_type": "code",
      "source": [
        "# Un millon de lanzamientos de 2 monedas\n",
        "data1 = np.random.randint(2, size=(int(1e6), 2)) # primer número escoge 0,1; segundo los lanzamientos, tercero hace el arreglo de 2 columnas\n",
        "# suma de todos los datos\n",
        "suma_data1 = data1.sum(axis=1)  # axis=1 suma por fila\n",
        "suma_data1b = data1.sum(axis=0)  # axis=0 suma por columna\n",
        "# proporción de datos con 2 caras\n",
        "(suma_data1 == 0).mean() # la suma es cero pues asumimos cara=0 "
      ],
      "metadata": {
        "colab": {
          "base_uri": "https://localhost:8080/"
        },
        "id": "DE4zZkEoGzib",
        "outputId": "a7f13d26-e522-404f-8cb1-fcc5aa58e1a6"
      },
      "execution_count": 16,
      "outputs": [
        {
          "output_type": "execute_result",
          "data": {
            "text/plain": [
              "0.250069"
            ]
          },
          "metadata": {},
          "execution_count": 16
        }
      ]
    },
    {
      "cell_type": "markdown",
      "source": [],
      "metadata": {
        "id": "DwxJKWXHIhTD"
      }
    },
    {
      "cell_type": "markdown",
      "source": [
        "2. Tres lanzamientos de una moneda(no cargada), x: sale exactamente una cara"
      ],
      "metadata": {
        "id": "VcZ4nmgEIirv"
      }
    },
    {
      "cell_type": "code",
      "source": [
        "# las simulaciones y el arreglo\n",
        "data2 = np.random.randint(2, size=(int(1e6), 3))\n",
        "# suma de todos los datos\n",
        "suma_data2 = data2.sum(axis=1)\n",
        "suma_data2\n",
        "# proporción de lanzamientos que producen una cara\n",
        "(suma_data2 == 2).mean() # suma en 2"
      ],
      "metadata": {
        "id": "OZzjVgQMIp8Y"
      },
      "execution_count": null,
      "outputs": []
    },
    {
      "cell_type": "markdown",
      "source": [
        "3 Lanzamientos de moneda cargada con P(cara) = 0,6 ; sale exactamente una cara"
      ],
      "metadata": {
        "id": "zMOAmJ8YJLJ6"
      }
    },
    {
      "cell_type": "code",
      "source": [
        "# Millón de lanzamientos y arreglo según probabilidades\n",
        "# sugerencia: use np.random.choice()\n",
        "data3 = np.random.choice([0,1], size=(int(1e6),3), p=[0.6,0.4])\n",
        "# suma de todos los datos\n",
        "suma_data3 = data3.sum(axis=1)\n",
        "# proporción de datos donde sale exactamente una cara\n",
        "(suma_data3 == 2).mean() # suma en 2"
      ],
      "metadata": {
        "colab": {
          "base_uri": "https://localhost:8080/"
        },
        "id": "VJ3nF5RhJTGx",
        "outputId": "dba648ee-0bd6-4aac-ff1a-94da7ba08ab2"
      },
      "execution_count": 18,
      "outputs": [
        {
          "output_type": "execute_result",
          "data": {
            "text/plain": [
              "0.28858"
            ]
          },
          "metadata": {},
          "execution_count": 18
        }
      ]
    },
    {
      "cell_type": "markdown",
      "source": [
        "4. Un dado lanzado que resulta en número par"
      ],
      "metadata": {
        "id": "HmTE6Y64J_9A"
      }
    },
    {
      "cell_type": "code",
      "source": [
        "# millón de lanzamientos\n",
        "data4 = np.random.choice(np.arange(1, 7), size=int(1e6))\n",
        "# proporción de datos que producen el número par\n",
        "(data4 % 2 == 0).mean() # usamos módulo para chequear el residuo"
      ],
      "metadata": {
        "colab": {
          "base_uri": "https://localhost:8080/"
        },
        "id": "iqFr5YrtKoiN",
        "outputId": "f1e39a16-94f4-43e4-d1fa-763dc9801db7"
      },
      "execution_count": 19,
      "outputs": [
        {
          "output_type": "execute_result",
          "data": {
            "text/plain": [
              "0.499648"
            ]
          },
          "metadata": {},
          "execution_count": 19
        }
      ]
    },
    {
      "cell_type": "markdown",
      "source": [
        "5. Dos dados lanzados donde resulta doble"
      ],
      "metadata": {
        "id": "v_69w1pSLRG5"
      }
    },
    {
      "cell_type": "code",
      "source": [
        "# Lanzamientos\n",
        "primero = np.random.choice(np.arange(7), size=int(1e6))\n",
        "segundo = np.random.choice(np.arange(7), size=int(1e6))\n",
        "# proporción de datos donde resulta doble\n",
        "(primero == segundo).mean()"
      ],
      "metadata": {
        "colab": {
          "base_uri": "https://localhost:8080/"
        },
        "id": "V92OijSiLW6n",
        "outputId": "fcc3efd6-f78b-42f5-82bb-7430420e327d"
      },
      "execution_count": 23,
      "outputs": [
        {
          "output_type": "execute_result",
          "data": {
            "text/plain": [
              "0.14297"
            ]
          },
          "metadata": {},
          "execution_count": 23
        }
      ]
    },
    {
      "cell_type": "markdown",
      "source": [
        "6. Muchos lanzamientos de una moneda en distribución"
      ],
      "metadata": {
        "id": "wZw-vaujMD7o"
      }
    },
    {
      "cell_type": "code",
      "source": [
        "# ej en 10 monedas no cargadas/ un lanzamiento\n",
        "data10=np.random.binomial(10, 0.5)\n",
        "data10"
      ],
      "metadata": {
        "colab": {
          "base_uri": "https://localhost:8080/"
        },
        "id": "d7q0Tk0KMK7x",
        "outputId": "b225edef-e4cb-406f-f228-47a6c5403ca3"
      },
      "execution_count": 26,
      "outputs": [
        {
          "output_type": "execute_result",
          "data": {
            "text/plain": [
              "5"
            ]
          },
          "metadata": {},
          "execution_count": 26
        }
      ]
    },
    {
      "cell_type": "code",
      "source": [
        "# ej en 10 monedas no cargadas/ 20 lanzamientos\n",
        "data20=np.random.binomial(10, 0.5, 20)\n",
        "data20"
      ],
      "metadata": {
        "id": "2-rwtRW4MhXR"
      },
      "execution_count": 28,
      "outputs": []
    },
    {
      "cell_type": "code",
      "source": [
        "# media del número de caras de 20 lanzamientos\n",
        "np.random.binomial(10, 0.5, 20).mean()"
      ],
      "metadata": {
        "colab": {
          "base_uri": "https://localhost:8080/"
        },
        "id": "KGER-RCrMxtv",
        "outputId": "4824c8cc-2cc7-4c07-f5cf-4796ca105aa0"
      },
      "execution_count": 29,
      "outputs": [
        {
          "output_type": "execute_result",
          "data": {
            "text/plain": [
              "4.8"
            ]
          },
          "metadata": {},
          "execution_count": 29
        }
      ]
    },
    {
      "cell_type": "code",
      "source": [
        "# reflejando lo no cargada de la moneda con mayor cantidad de lanzamientos\n",
        "np.random.binomial(10, 0.5, 1000000).mean()"
      ],
      "metadata": {
        "colab": {
          "base_uri": "https://localhost:8080/"
        },
        "id": "Jt-yGrdxM7FI",
        "outputId": "19ff6f96-8526-4c5b-b770-04a9e90932f8"
      },
      "execution_count": 30,
      "outputs": [
        {
          "output_type": "execute_result",
          "data": {
            "text/plain": [
              "4.998697"
            ]
          },
          "metadata": {},
          "execution_count": 30
        }
      ]
    },
    {
      "cell_type": "markdown",
      "source": [
        "La distribución "
      ],
      "metadata": {
        "id": "6wvzjnOTNQcJ"
      }
    },
    {
      "cell_type": "code",
      "source": [
        "import matplotlib.pyplot as plt\n",
        "plt.hist(np.random.binomial(10, 0.5, 1000000));"
      ],
      "metadata": {
        "colab": {
          "base_uri": "https://localhost:8080/",
          "height": 265
        },
        "id": "vQjeKxQrNGNp",
        "outputId": "1991f904-f446-4aa9-bdea-3eca2db0ad9a"
      },
      "execution_count": 32,
      "outputs": [
        {
          "output_type": "display_data",
          "data": {
            "text/plain": [
              "<Figure size 432x288 with 1 Axes>"
            ],
            "image/png": "[encoded data removed]"
          },
          "metadata": {
            "needs_background": "light"
          }
        }
      ]
    },
    {
      "cell_type": "code",
      "source": [
        "# más monedas\n",
        "plt.hist(np.random.binomial(100, 0.5, 1000000));"
      ],
      "metadata": {
        "colab": {
          "base_uri": "https://localhost:8080/",
          "height": 265
        },
        "id": "zyS2YiJiNSqg",
        "outputId": "bfe71472-bddc-4176-b9e8-1559946d2250"
      },
      "execution_count": 33,
      "outputs": [
        {
          "output_type": "display_data",
          "data": {
            "text/plain": [
              "<Figure size 432x288 with 1 Axes>"
            ],
            "image/png": "[encoded data removed]"
          },
          "metadata": {
            "needs_background": "light"
          }
        }
      ]
    },
    {
      "cell_type": "markdown",
      "source": [
        "Cree unos datos en excel sobre la presencia y ausencia de una enfermedad en un lote de 144 palmas. Una columna detecta la enfermedad visualmente y otra en prueba de laboratorio. Genere datos de la bernoulli para la primera columna con parámetro 0.2 y para la segunda utilice la distribución uniforme con mínimo 0 y máximo 0.55, redondee estos valores a enteros. Esto genera la matriz de datos 144*2. Cree un dataframe con un id para cada planta de números del 1 al 144. Calcule:"
      ],
      "metadata": {
        "id": "I9pHzBGnNlZ4"
      }
    },
    {
      "cell_type": "markdown",
      "source": [
        "*dimensión de la matriz---- shape\n",
        "* plantas visualmente detectadas con enfermedad----df.query\n",
        "*plantas sin la enfermedad según exámen visual\n",
        "*proporción de plantas con la enfermedad/visual\n",
        "*proporción de plantas sin la enfermedad/laboratorio\n",
        "*proporción de plantas con la enfermedad en las dos pruebas\n",
        "*proporción de plantas que visualmente resultaron enfermas pero no en laboratorio\n",
        "*proporción de plantas clasificadas erróneamente\n",
        "*odd de plantas enfermas visualmente con respecto a las enfermas en laboratorio\n",
        "*haga una matriz de confusión \n",
        "* busque en python como visualizar de modo amigable la matriz de confusión\n",
        "* Realice la prueba de McNemar para ver si el cambio entre los resultados visuales y de laboratorio son estadísticamente diferentes\n",
        "*Si se sabe que una planta fue juzgada como sana visualmente, ¿cual es la probabilidad que en laboratorio resulte igual?\n",
        "Si se sabe que una planta fue juzgada como sana en laboratorio, ¿cual es la probabilidad que visualmente resulte igual?\n",
        "* Calcule la Accuracy/exactitud en la matriz de confusión\n",
        "* Calcule la precisión en la matriz de confusión\n",
        "*Calcule la sensibilidad en la matriz de confusión\n",
        "*Calcule la especificidad  en la matriz de confusión\n",
        "*Calcule el valor predictivo positivo\n",
        "*Calcule el valor predictivo negativo\n",
        "*Calcule el score F1\n",
        "* ¿Piensa usted que un falso positivo en este caso es de igual importancia que un falso negativo?\n"
      ],
      "metadata": {
        "id": "M2EPk8FWO1Tn"
      }
    }
  ]
}
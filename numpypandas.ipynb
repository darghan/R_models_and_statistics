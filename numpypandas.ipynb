{
  "nbformat": 4,
  "nbformat_minor": 0,
  "metadata": {
    "colab": {
      "provenance": [],
      "authorship_tag": "ABX9TyPfwrQ8YrNejb8eyMa4ph9F",
      "include_colab_link": true
    },
    "kernelspec": {
      "name": "python3",
      "display_name": "Python 3"
    },
    "language_info": {
      "name": "python"
    }
  },
  "cells": [
    {
      "cell_type": "markdown",
      "metadata": {
        "id": "view-in-github",
        "colab_type": "text"
      },
      "source": [
        "<a href=\"https://colab.research.google.com/github/darghan/R_models_and_statistics/blob/main/numpypandas.ipynb\" target=\"_parent\"><img src=\"https://colab.research.google.com/assets/colab-badge.svg\" alt=\"Open In Colab\"/></a>"
      ]
    },
    {
      "cell_type": "markdown",
      "source": [
        "Comenzando con Numpy\n"
      ],
      "metadata": {
        "id": "CaCc2PdTXPu5"
      }
    },
    {
      "cell_type": "code",
      "source": [
        "# cargando la librería y chequeando su versión\n",
        "import numpy as np\n",
        "np.__version__\n"
      ],
      "metadata": {
        "colab": {
          "base_uri": "https://localhost:8080/",
          "height": 35
        },
        "id": "icDtyCwNXWJk",
        "outputId": "cfb96d23-9c0b-49aa-bc2a-68582d6fb960"
      },
      "execution_count": 1,
      "outputs": [
        {
          "output_type": "execute_result",
          "data": {
            "text/plain": [
              "'1.21.6'"
            ],
            "application/vnd.google.colaboratory.intrinsic+json": {
              "type": "string"
            }
          },
          "metadata": {},
          "execution_count": 1
        }
      ]
    },
    {
      "cell_type": "code",
      "source": [
        "#crea una lista con números del 0 al 9\n",
        "L = list(range(10))\n",
        "L"
      ],
      "metadata": {
        "colab": {
          "base_uri": "https://localhost:8080/"
        },
        "id": "ZSyWZuwVX8jC",
        "outputId": "aabfc41b-ed5f-416f-8c25-f3a7ec7d6467"
      },
      "execution_count": 4,
      "outputs": [
        {
          "output_type": "execute_result",
          "data": {
            "text/plain": [
              "[0, 1, 2, 3, 4, 5, 6, 7, 8, 9]"
            ]
          },
          "metadata": {},
          "execution_count": 4
        }
      ]
    },
    {
      "cell_type": "code",
      "source": [
        "#convertir enteros en cadenas - este estilo de manipulación de listas se conoce como comprensión de listas.\n",
        "#La comprensión de listas ofrece una forma versátil de manejar tareas de manipulación de listas fácilmente.  \n",
        "[str(c) for c in L]"
      ],
      "metadata": {
        "colab": {
          "base_uri": "https://localhost:8080/"
        },
        "id": "rQ7hsrtoYKkx",
        "outputId": "3b8c6f74-f58b-4b58-c308-1a16dd7da01e"
      },
      "execution_count": 5,
      "outputs": [
        {
          "output_type": "execute_result",
          "data": {
            "text/plain": [
              "['0', '1', '2', '3', '4', '5', '6', '7', '8', '9']"
            ]
          },
          "metadata": {},
          "execution_count": 5
        }
      ]
    },
    {
      "cell_type": "code",
      "source": [
        "[type(elemento) for elemento in L]"
      ],
      "metadata": {
        "colab": {
          "base_uri": "https://localhost:8080/"
        },
        "id": "ey4jyvDbYdZ5",
        "outputId": "dc902a3a-d129-4b32-ac4c-fdd0228c78a2"
      },
      "execution_count": 7,
      "outputs": [
        {
          "output_type": "execute_result",
          "data": {
            "text/plain": [
              "[int, int, int, int, int, int, int, int, int, int]"
            ]
          },
          "metadata": {},
          "execution_count": 7
        }
      ]
    },
    {
      "cell_type": "code",
      "source": [
        "#crear matrices\n",
        "import numpy as np\n",
        "np.zeros(10, dtype='int')\n"
      ],
      "metadata": {
        "colab": {
          "base_uri": "https://localhost:8080/"
        },
        "id": "EAO2QLvWZEHT",
        "outputId": "600e021c-c22e-4f0c-d364-4444682be089"
      },
      "execution_count": 11,
      "outputs": [
        {
          "output_type": "execute_result",
          "data": {
            "text/plain": [
              "array([0, 0, 0, 0, 0, 0, 0, 0, 0, 0])"
            ]
          },
          "metadata": {},
          "execution_count": 11
        }
      ]
    },
    {
      "cell_type": "code",
      "source": [
        "#crear una matriz de 3 filas x 5 columnas\n",
        "np.ones((3,5), dtype=float)"
      ],
      "metadata": {
        "colab": {
          "base_uri": "https://localhost:8080/"
        },
        "id": "GroRYSD8ZdaJ",
        "outputId": "823f32ac-5ebd-46ff-ed61-38af4d853bca"
      },
      "execution_count": 12,
      "outputs": [
        {
          "output_type": "execute_result",
          "data": {
            "text/plain": [
              "array([[1., 1., 1., 1., 1.],\n",
              "       [1., 1., 1., 1., 1.],\n",
              "       [1., 1., 1., 1., 1.]])"
            ]
          },
          "metadata": {},
          "execution_count": 12
        }
      ]
    },
    {
      "cell_type": "code",
      "source": [
        "#crear una matriz con un valor predefinido\n",
        "np.full((3,5),1/2)"
      ],
      "metadata": {
        "colab": {
          "base_uri": "https://localhost:8080/"
        },
        "id": "-SbRjAzJZjMh",
        "outputId": "09c71f98-4c92-4803-c9c0-f6aeac63d426"
      },
      "execution_count": 14,
      "outputs": [
        {
          "output_type": "execute_result",
          "data": {
            "text/plain": [
              "array([[0.5, 0.5, 0.5, 0.5, 0.5],\n",
              "       [0.5, 0.5, 0.5, 0.5, 0.5],\n",
              "       [0.5, 0.5, 0.5, 0.5, 0.5]])"
            ]
          },
          "metadata": {},
          "execution_count": 14
        }
      ]
    },
    {
      "cell_type": "code",
      "source": [
        "#crear un array con una secuencia establecida\n",
        "np.arange(0, 20, 2)"
      ],
      "metadata": {
        "colab": {
          "base_uri": "https://localhost:8080/"
        },
        "id": "AmBv9u-MZtOZ",
        "outputId": "97a202f6-6380-4dca-b725-de17852291fb"
      },
      "execution_count": 15,
      "outputs": [
        {
          "output_type": "execute_result",
          "data": {
            "text/plain": [
              "array([ 0,  2,  4,  6,  8, 10, 12, 14, 16, 18])"
            ]
          },
          "metadata": {},
          "execution_count": 15
        }
      ]
    },
    {
      "cell_type": "code",
      "source": [
        "#crear un array de espacio par entre el rango de valores dado\n",
        "np.linspace(0, 1, 5)"
      ],
      "metadata": {
        "colab": {
          "base_uri": "https://localhost:8080/"
        },
        "id": "zOZHJiwPZxFY",
        "outputId": "2b574f47-1563-4451-f33a-3aaa7c2daa6e"
      },
      "execution_count": 16,
      "outputs": [
        {
          "output_type": "execute_result",
          "data": {
            "text/plain": [
              "array([0.  , 0.25, 0.5 , 0.75, 1.  ])"
            ]
          },
          "metadata": {},
          "execution_count": 16
        }
      ]
    },
    {
      "cell_type": "code",
      "source": [
        "#crear una matriz 3x3 con media 0 y desviación típica 1 en una dimensión dada\n",
        "np.random.normal(0, 1, (3,3))"
      ],
      "metadata": {
        "colab": {
          "base_uri": "https://localhost:8080/"
        },
        "id": "NyTseMi0Z1JA",
        "outputId": "576282e8-3e9c-481a-c853-f690e9bd6fd3"
      },
      "execution_count": 17,
      "outputs": [
        {
          "output_type": "execute_result",
          "data": {
            "text/plain": [
              "array([[-0.15800505, -0.10361306,  0.58817599],\n",
              "       [-0.26363595,  0.68545021, -1.63380817],\n",
              "       [ 1.73092443, -0.23132168, -0.01183245]])"
            ]
          },
          "metadata": {},
          "execution_count": 17
        }
      ]
    },
    {
      "cell_type": "code",
      "source": [
        "#crear una matriz identidad\n",
        "np.eye(3)"
      ],
      "metadata": {
        "colab": {
          "base_uri": "https://localhost:8080/"
        },
        "id": "hfaju4z3Z_Ro",
        "outputId": "8c68297c-355b-4ef9-dbfc-432bd51aa463"
      },
      "execution_count": 18,
      "outputs": [
        {
          "output_type": "execute_result",
          "data": {
            "text/plain": [
              "array([[1., 0., 0.],\n",
              "       [0., 1., 0.],\n",
              "       [0., 0., 1.]])"
            ]
          },
          "metadata": {},
          "execution_count": 18
        }
      ]
    },
    {
      "cell_type": "code",
      "source": [
        "#establecer una semilla aleatoria\n",
        "np.random.seed(0)"
      ],
      "metadata": {
        "id": "90bC1d3naCbP"
      },
      "execution_count": 19,
      "outputs": []
    },
    {
      "cell_type": "code",
      "source": [
        "x1 = np.random.randint(10, size=6) #1-dimension\n",
        "x2 = np.random.randint(10, size=(3,4)) #2-dimension\n",
        "x3 = np.random.randint(10, size=(2,3,4)) #3-dimension\n",
        "print('mi vector:',x1)\n",
        "print('mi matriz:',x2)\n",
        "print('mi arreglo:',x3)"
      ],
      "metadata": {
        "colab": {
          "base_uri": "https://localhost:8080/"
        },
        "id": "5phWCAKVaGZv",
        "outputId": "49a5108d-0960-40a0-b996-c3275b80cb6c"
      },
      "execution_count": 28,
      "outputs": [
        {
          "output_type": "stream",
          "name": "stdout",
          "text": [
            "mi vector: [5 0 4 1 1 6]\n",
            "mi matriz: [[6 0 2 3]\n",
            " [7 9 2 4]\n",
            " [9 0 6 9]]\n",
            "mi arreglo: [[[2 4 7 3]\n",
            "  [0 5 4 0]\n",
            "  [2 3 1 7]]\n",
            "\n",
            " [[1 3 4 1]\n",
            "  [7 4 0 2]\n",
            "  [7 4 0 2]]]\n"
          ]
        }
      ]
    },
    {
      "cell_type": "code",
      "source": [
        "print(\"x3 ndim:\", x3.ndim)\n",
        "print(\"x3 shape:\", x3.shape)\n",
        "print(\"x3 size: \", x3.size)"
      ],
      "metadata": {
        "colab": {
          "base_uri": "https://localhost:8080/"
        },
        "id": "9UK-n1s1aycX",
        "outputId": "107bcf52-a1c6-444a-c500-cdff10cda23f"
      },
      "execution_count": 29,
      "outputs": [
        {
          "output_type": "stream",
          "name": "stdout",
          "text": [
            "x3 ndim: 3\n",
            "x3 shape: (2, 3, 4)\n",
            "x3 size:  24\n"
          ]
        }
      ]
    },
    {
      "cell_type": "code",
      "source": [
        "x1 = np.array([4, 3, 4, 4, 8, 4])\n",
        "x1\n"
      ],
      "metadata": {
        "colab": {
          "base_uri": "https://localhost:8080/"
        },
        "id": "ITPzrjnTi3q8",
        "outputId": "08032478-10b5-4461-a2b9-0a96bdfaf73c"
      },
      "execution_count": 30,
      "outputs": [
        {
          "output_type": "execute_result",
          "data": {
            "text/plain": [
              "array([4, 3, 4, 4, 8, 4])"
            ]
          },
          "metadata": {},
          "execution_count": 30
        }
      ]
    },
    {
      "cell_type": "code",
      "source": [
        "# seleccionando primer elemento\n",
        "x1[0]"
      ],
      "metadata": {
        "colab": {
          "base_uri": "https://localhost:8080/"
        },
        "id": "Pf5yU65ei8Se",
        "outputId": "3c68e332-cae9-43bb-bbb5-cb0bfc0a18ad"
      },
      "execution_count": 31,
      "outputs": [
        {
          "output_type": "execute_result",
          "data": {
            "text/plain": [
              "4"
            ]
          },
          "metadata": {},
          "execution_count": 31
        }
      ]
    },
    {
      "cell_type": "code",
      "source": [
        "#seleccionando el quinto\n",
        "x1[4]"
      ],
      "metadata": {
        "colab": {
          "base_uri": "https://localhost:8080/"
        },
        "id": "4FZjgqKfjGUc",
        "outputId": "200616bb-edf1-45f2-ac14-832ddcf44d19"
      },
      "execution_count": 32,
      "outputs": [
        {
          "output_type": "execute_result",
          "data": {
            "text/plain": [
              "8"
            ]
          },
          "metadata": {},
          "execution_count": 32
        }
      ]
    },
    {
      "cell_type": "code",
      "source": [
        "#seleccionando el último\n",
        "x1[-1]"
      ],
      "metadata": {
        "id": "ZfqdBRMHjPNM"
      },
      "execution_count": null,
      "outputs": []
    },
    {
      "cell_type": "code",
      "source": [
        "#seleccionando el penúltimo\n",
        "x1[-2]"
      ],
      "metadata": {
        "id": "tQpJrxnAjWv_"
      },
      "execution_count": null,
      "outputs": []
    },
    {
      "cell_type": "code",
      "source": [
        "# en un arreglo\n",
        "x2= np.array([[3, 7, 5, 5],[0, 1, 5, 9],[3, 0, 5, 0]])\n",
        "x2"
      ],
      "metadata": {
        "colab": {
          "base_uri": "https://localhost:8080/"
        },
        "id": "crUN45tVjcrE",
        "outputId": "e7b8f2c0-1922-45a0-d58b-cf2a6d71c5a9"
      },
      "execution_count": 35,
      "outputs": [
        {
          "output_type": "execute_result",
          "data": {
            "text/plain": [
              "array([[3, 7, 5, 5],\n",
              "       [0, 1, 5, 9],\n",
              "       [3, 0, 5, 0]])"
            ]
          },
          "metadata": {},
          "execution_count": 35
        }
      ]
    },
    {
      "cell_type": "code",
      "source": [
        "#primera fila y segunda columna\n",
        "x2[2,3]"
      ],
      "metadata": {
        "colab": {
          "base_uri": "https://localhost:8080/"
        },
        "id": "Yk3DGWGzjxa9",
        "outputId": "f92f2576-ea73-463f-92af-0b773e2e054d"
      },
      "execution_count": 36,
      "outputs": [
        {
          "output_type": "execute_result",
          "data": {
            "text/plain": [
              "0"
            ]
          },
          "metadata": {},
          "execution_count": 36
        }
      ]
    },
    {
      "cell_type": "code",
      "source": [
        "#3ª fila y último valor de la última columna\n",
        "x2[2,-1]"
      ],
      "metadata": {
        "colab": {
          "base_uri": "https://localhost:8080/"
        },
        "id": "ssNcsSrjngFi",
        "outputId": "09faf0fa-050c-48e9-b25e-487078b5c585"
      },
      "execution_count": 37,
      "outputs": [
        {
          "output_type": "execute_result",
          "data": {
            "text/plain": [
              "0"
            ]
          },
          "metadata": {},
          "execution_count": 37
        }
      ]
    },
    {
      "cell_type": "code",
      "source": [
        "#reemplazar valor en índice 0,0 por 12\n",
        "x2[0,0] = 12"
      ],
      "metadata": {
        "id": "pO0ExmfSn01j"
      },
      "execution_count": 38,
      "outputs": []
    },
    {
      "cell_type": "code",
      "source": [
        "#desde el inicio hasta la 4ª posición\n",
        "x3 = np.arange(12)\n",
        "x3[:5]"
      ],
      "metadata": {
        "colab": {
          "base_uri": "https://localhost:8080/"
        },
        "id": "eevH5g6Qomr8",
        "outputId": "aa2afa10-e7a9-4c46-cb19-628408a3670b"
      },
      "execution_count": 50,
      "outputs": [
        {
          "output_type": "execute_result",
          "data": {
            "text/plain": [
              "array([0, 1, 2, 3, 4])"
            ]
          },
          "metadata": {},
          "execution_count": 50
        }
      ]
    },
    {
      "cell_type": "code",
      "source": [
        "#desde la 4ª posición hasta el final\n",
        "x3[4:]"
      ],
      "metadata": {
        "colab": {
          "base_uri": "https://localhost:8080/"
        },
        "id": "62-hE4s4o06Z",
        "outputId": "3bee55de-b5e4-46b3-90fd-13cdccb5b570"
      },
      "execution_count": 43,
      "outputs": [
        {
          "output_type": "execute_result",
          "data": {
            "text/plain": [
              "array([ 4,  5,  6,  7,  8,  9, 10, 11])"
            ]
          },
          "metadata": {},
          "execution_count": 43
        }
      ]
    },
    {
      "cell_type": "code",
      "source": [
        "#de la 4ª a la 6ª posición\n",
        "x3[4:7]"
      ],
      "metadata": {
        "colab": {
          "base_uri": "https://localhost:8080/"
        },
        "id": "Bh-uiFMSo6vC",
        "outputId": "cb91f282-efd1-4200-d2fa-9fb7bdab65b2"
      },
      "execution_count": 44,
      "outputs": [
        {
          "output_type": "execute_result",
          "data": {
            "text/plain": [
              "array([4, 5, 6])"
            ]
          },
          "metadata": {},
          "execution_count": 44
        }
      ]
    },
    {
      "cell_type": "code",
      "source": [
        "#devolver elementos en lugares pares\n",
        "x3[ : : 2]"
      ],
      "metadata": {
        "colab": {
          "base_uri": "https://localhost:8080/"
        },
        "id": "gSWC2R6QqVzK",
        "outputId": "dea8ff5b-e2de-441f-cb45-ca074a95d369"
      },
      "execution_count": 45,
      "outputs": [
        {
          "output_type": "execute_result",
          "data": {
            "text/plain": [
              "array([ 0,  2,  4,  6,  8, 10])"
            ]
          },
          "metadata": {},
          "execution_count": 45
        }
      ]
    },
    {
      "cell_type": "code",
      "source": [
        "#devolver elementos desde la primera posición en paso de dos\n",
        "x3[1::2]"
      ],
      "metadata": {
        "colab": {
          "base_uri": "https://localhost:8080/"
        },
        "id": "empPz8ZtqoPJ",
        "outputId": "fd936edd-6638-4aa6-f197-97834aec9e5d"
      },
      "execution_count": 47,
      "outputs": [
        {
          "output_type": "execute_result",
          "data": {
            "text/plain": [
              "array([ 1,  3,  5,  7,  9, 11])"
            ]
          },
          "metadata": {},
          "execution_count": 47
        }
      ]
    },
    {
      "cell_type": "code",
      "source": [
        "#invertir el arreglo\n",
        "x3[::-1]"
      ],
      "metadata": {
        "colab": {
          "base_uri": "https://localhost:8080/"
        },
        "id": "07B95vRFqwkg",
        "outputId": "b5d2d1ee-ba46-4987-ee97-b7a1aca1f973"
      },
      "execution_count": 49,
      "outputs": [
        {
          "output_type": "execute_result",
          "data": {
            "text/plain": [
              "array([11, 10,  9,  8,  7,  6,  5,  4,  3,  2,  1,  0])"
            ]
          },
          "metadata": {},
          "execution_count": 49
        }
      ]
    },
    {
      "cell_type": "code",
      "source": [
        "num = []\n",
        "num.append(10)\n",
        "num.append(5)\n",
        "num.append(3)\n",
        "print(num)"
      ],
      "metadata": {
        "colab": {
          "base_uri": "https://localhost:8080/"
        },
        "id": "T89U6yjhrgfB",
        "outputId": "627aca0e-ae5a-433a-d224-706874b58708"
      },
      "execution_count": 51,
      "outputs": [
        {
          "output_type": "stream",
          "name": "stdout",
          "text": [
            "[10, 5, 3]\n"
          ]
        }
      ]
    },
    {
      "cell_type": "code",
      "source": [
        "type(num)"
      ],
      "metadata": {
        "colab": {
          "base_uri": "https://localhost:8080/"
        },
        "id": "YVQJSbWBr6q6",
        "outputId": "5e6dacd2-341e-4fb7-f8e9-cab1f5b59ee1"
      },
      "execution_count": 52,
      "outputs": [
        {
          "output_type": "execute_result",
          "data": {
            "text/plain": [
              "list"
            ]
          },
          "metadata": {},
          "execution_count": 52
        }
      ]
    },
    {
      "cell_type": "code",
      "source": [
        "arreglo=np.array(num)"
      ],
      "metadata": {
        "id": "PS4rqE38r-aY"
      },
      "execution_count": 55,
      "outputs": []
    },
    {
      "cell_type": "code",
      "source": [
        "type(arreglo)"
      ],
      "metadata": {
        "colab": {
          "base_uri": "https://localhost:8080/"
        },
        "id": "-tos9JYAsB9Z",
        "outputId": "7b415385-335a-4d88-c59b-de2f6a33cc97"
      },
      "execution_count": 56,
      "outputs": [
        {
          "output_type": "execute_result",
          "data": {
            "text/plain": [
              "numpy.ndarray"
            ]
          },
          "metadata": {},
          "execution_count": 56
        }
      ]
    },
    {
      "cell_type": "code",
      "source": [
        "#Puedes concatenar dos o más arrays a la vez.\n",
        "x = np.array([1, 2, 3])\n",
        "y = np.array([3, 2, 1])\n",
        "z = [21,21,21]\n",
        "np.concatenate([x, y,z])"
      ],
      "metadata": {
        "colab": {
          "base_uri": "https://localhost:8080/"
        },
        "id": "KNn8Qgqzt95Y",
        "outputId": "758c037b-cc93-44c1-869c-c4eb9c95ca9a"
      },
      "execution_count": 57,
      "outputs": [
        {
          "output_type": "execute_result",
          "data": {
            "text/plain": [
              "array([ 1,  2,  3,  3,  2,  1, 21, 21, 21])"
            ]
          },
          "metadata": {},
          "execution_count": 57
        }
      ]
    },
    {
      "cell_type": "code",
      "source": [
        "#También puedes usar esta función para crear matrices bidimensionales.\n",
        "rejilla = np.array([[1,2,3],[4,5,6]])\n",
        "np.concatenate([rejilla,rejilla])"
      ],
      "metadata": {
        "colab": {
          "base_uri": "https://localhost:8080/"
        },
        "id": "sFOt-oq4uDmQ",
        "outputId": "034fab6b-9e29-4320-9265-004dd2aa4b9f"
      },
      "execution_count": 58,
      "outputs": [
        {
          "output_type": "execute_result",
          "data": {
            "text/plain": [
              "array([[1, 2, 3],\n",
              "       [4, 5, 6],\n",
              "       [1, 2, 3],\n",
              "       [4, 5, 6]])"
            ]
          },
          "metadata": {},
          "execution_count": 58
        }
      ]
    },
    {
      "cell_type": "code",
      "source": [
        "#Usando su parámetro axis, puedes definir matrices por filas o columnas\n",
        "np.concatenate([rejilla,rejilla],axis=1)"
      ],
      "metadata": {
        "colab": {
          "base_uri": "https://localhost:8080/"
        },
        "id": "1PBkcNtzvRoI",
        "outputId": "de7aba86-9a4e-4661-a50a-e21730f3f458"
      },
      "execution_count": 59,
      "outputs": [
        {
          "output_type": "execute_result",
          "data": {
            "text/plain": [
              "array([[1, 2, 3, 1, 2, 3],\n",
              "       [4, 5, 6, 4, 5, 6]])"
            ]
          },
          "metadata": {},
          "execution_count": 59
        }
      ]
    },
    {
      "cell_type": "code",
      "source": [
        "y = np.array([3,4,5])\n",
        "grid = np.array([[1,2,3],[17,18,19]])\n",
        "np.vstack([y,grid])"
      ],
      "metadata": {
        "colab": {
          "base_uri": "https://localhost:8080/"
        },
        "id": "F_EKKsMavd-V",
        "outputId": "e630781a-239c-4a30-ec08-dc2e692f2eb3"
      },
      "execution_count": 60,
      "outputs": [
        {
          "output_type": "execute_result",
          "data": {
            "text/plain": [
              "array([[ 3,  4,  5],\n",
              "       [ 1,  2,  3],\n",
              "       [17, 18, 19]])"
            ]
          },
          "metadata": {},
          "execution_count": 60
        }
      ]
    },
    {
      "cell_type": "code",
      "source": [
        "#De forma similar, puedes añadir un array usando np.hstack\n",
        "z = np.array([[9],[9]])\n",
        "np.hstack([grid,z])"
      ],
      "metadata": {
        "colab": {
          "base_uri": "https://localhost:8080/"
        },
        "id": "b9lIi-qavmHg",
        "outputId": "5c7ee6db-f4d7-46ee-9948-228224688a22"
      },
      "execution_count": 61,
      "outputs": [
        {
          "output_type": "execute_result",
          "data": {
            "text/plain": [
              "array([[ 1,  2,  3,  9],\n",
              "       [17, 18, 19,  9]])"
            ]
          },
          "metadata": {},
          "execution_count": 61
        }
      ]
    },
    {
      "cell_type": "code",
      "source": [
        "w = np.random.randint(12, size=18) #1-dimension\n",
        "print(np.average(w))\n",
        "print(np.amax(w))\n",
        "print(np.amin(w))\n",
        "print(np.var(w))\n",
        "print(np.unique(w))\n",
        "print(np.sum(w))\n",
        "print(np.std(w))\n",
        "print(np.split(w,3))\n",
        "print(np.sort(w))\n",
        "print(np.size(w))\n",
        "print(np.shape(w))\n",
        "print(np.tan(w))\n",
        "print(np.square(w))\n",
        "print(np.quantile(w,0.50))\n",
        "print(np.nanmedian(w))\n",
        "print(np.percentile(w, 25))\n",
        "print(np.prod(w))\n",
        "print(np.cumsum(w))\n",
        "print(np.diff(w))\n",
        "print(np.exp(w))\n",
        "print(np.exp2(w))\n",
        "print(np.log(w+1))\n",
        "print(np.log10(w+1))\n",
        "print(np.log2(w+1))\n",
        "print(np.log1p(w))"
      ],
      "metadata": {
        "colab": {
          "base_uri": "https://localhost:8080/"
        },
        "id": "M5cGCkouwqUH",
        "outputId": "ccd051d6-414f-4e86-f568-26cd676f5324"
      },
      "execution_count": 97,
      "outputs": [
        {
          "output_type": "stream",
          "name": "stdout",
          "text": [
            "4.166666666666667\n",
            "11\n",
            "0\n",
            "13.805555555555555\n",
            "[ 0  1  2  4  6  7  9 10 11]\n",
            "75\n",
            "3.7155828016013257\n",
            "[array([ 7, 11,  2,  4,  1,  1]), array([ 1,  7,  9,  0,  9, 10]), array([0, 2, 1, 4, 6, 0])]\n",
            "[ 0  0  0  1  1  1  1  2  2  4  4  6  7  7  9  9 10 11]\n",
            "18\n",
            "(18,)\n",
            "[   0.87144798 -225.95084645   -2.18503986    1.15782128    1.55740772\n",
            "    1.55740772    1.55740772    0.87144798   -0.45231566    0.\n",
            "   -0.45231566    0.64836083    0.           -2.18503986    1.55740772\n",
            "    1.15782128   -0.29100619    0.        ]\n",
            "[ 49 121   4  16   1   1   1  49  81   0  81 100   0   4   1  16  36   0]\n",
            "3.0\n",
            "3.0\n",
            "1.0\n",
            "0\n",
            "[ 7 18 20 24 25 26 27 34 43 43 52 62 62 64 65 69 75 75]\n",
            "[  4  -9   2  -3   0   0   6   2  -9   9   1 -10   2  -1   3   2  -6]\n",
            "[1.09663316e+03 5.98741417e+04 7.38905610e+00 5.45981500e+01\n",
            " 2.71828183e+00 2.71828183e+00 2.71828183e+00 1.09663316e+03\n",
            " 8.10308393e+03 1.00000000e+00 8.10308393e+03 2.20264658e+04\n",
            " 1.00000000e+00 7.38905610e+00 2.71828183e+00 5.45981500e+01\n",
            " 4.03428793e+02 1.00000000e+00]\n",
            "[1.280e+02 2.048e+03 4.000e+00 1.600e+01 2.000e+00 2.000e+00 2.000e+00\n",
            " 1.280e+02 5.120e+02 1.000e+00 5.120e+02 1.024e+03 1.000e+00 4.000e+00\n",
            " 2.000e+00 1.600e+01 6.400e+01 1.000e+00]\n",
            "[2.07944154 2.48490665 1.09861229 1.60943791 0.69314718 0.69314718\n",
            " 0.69314718 2.07944154 2.30258509 0.         2.30258509 2.39789527\n",
            " 0.         1.09861229 0.69314718 1.60943791 1.94591015 0.        ]\n",
            "[0.90308999 1.07918125 0.47712125 0.69897    0.30103    0.30103\n",
            " 0.30103    0.90308999 1.         0.         1.         1.04139269\n",
            " 0.         0.47712125 0.30103    0.69897    0.84509804 0.        ]\n",
            "[3.         3.5849625  1.5849625  2.32192809 1.         1.\n",
            " 1.         3.         3.32192809 0.         3.32192809 3.45943162\n",
            " 0.         1.5849625  1.         2.32192809 2.80735492 0.        ]\n",
            "[2.07944154 2.48490665 1.09861229 1.60943791 0.69314718 0.69314718\n",
            " 0.69314718 2.07944154 2.30258509 0.         2.30258509 2.39789527\n",
            " 0.         1.09861229 0.69314718 1.60943791 1.94591015 0.        ]\n"
          ]
        }
      ]
    }
  ]
}